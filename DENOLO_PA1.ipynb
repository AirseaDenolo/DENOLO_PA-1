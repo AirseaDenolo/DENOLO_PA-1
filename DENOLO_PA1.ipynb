{
 "cells": [
  {
   "cell_type": "markdown",
   "id": "0d6b4ac8-2cf9-4f33-8eb4-c99e95c53dfa",
   "metadata": {},
   "source": [
    "# ALPHABET SOUP PROBLEM"
   ]
  },
  {
   "cell_type": "code",
   "execution_count": 24,
   "id": "713dd33c-b1f7-4d66-abf3-136a385c8031",
   "metadata": {},
   "outputs": [
    {
     "name": "stdout",
     "output_type": "stream",
     "text": [
      "ehllo\n",
      "acehkr\n"
     ]
    }
   ],
   "source": [
    "def alphabet_soup(string):\n",
    "    #Sort characters in the string to alphabetical order\n",
    "    print(''.join(sorted(string)))\n",
    "\n",
    "#Use the function to state the string\n",
    "alphabet_soup('hello')\n",
    "alphabet_soup('hacker')"
   ]
  },
  {
   "cell_type": "markdown",
   "id": "2a2a7555-11fb-46a7-bb66-1d648a09064d",
   "metadata": {},
   "source": [
    "# EMOTICON PROBLEM"
   ]
  },
  {
   "cell_type": "code",
   "execution_count": 28,
   "id": "2eb678bb-29df-4e47-bd79-51a76a7f663b",
   "metadata": {},
   "outputs": [
    {
     "name": "stdout",
     "output_type": "stream",
     "text": [
      "Make me :)\n",
      "I am >:(\n",
      "I feel :((\n",
      "You look :D\n"
     ]
    }
   ],
   "source": [
    "def emotify(e):\n",
    "    #Change specific words into emoticons\n",
    "    #Replace the word \"smile\" to \":)\"\n",
    "    e = e.replace('smile', ':)')\n",
    "    #Replace the word \"grin\" to \":D\"\n",
    "    e = e.replace('grin', ':D')\n",
    "    #Replace the word \"sad\" to \":((\"\n",
    "    e = e.replace('sad', ':((')\n",
    "    #Replace the word \"mad\" to \">:(\"\n",
    "    e = e.replace('mad', '>:(')\n",
    "    #Return the modified string\n",
    "    return e\n",
    "#Example usage of the emotify function\n",
    "print(emotify('Make me smile'))\n",
    "print(emotify('I am mad'))\n",
    "print(emotify('I feel sad'))\n",
    "print(emotify('You look grin'))"
   ]
  },
  {
   "cell_type": "markdown",
   "id": "a30d1f2b-c0a2-44ca-9a0b-7112a590c6f5",
   "metadata": {},
   "source": [
    "# UNPACKING LIST PROBLEM"
   ]
  },
  {
   "cell_type": "code",
   "execution_count": 31,
   "id": "584623a4-29ca-4799-bd8a-0af99a9a0fc5",
   "metadata": {},
   "outputs": [
    {
     "name": "stdout",
     "output_type": "stream",
     "text": [
      "first: 1 middle: [2, 3, 4, 5] last: 6\n"
     ]
    }
   ],
   "source": [
    "def unpack_list(var):\n",
    "    #Unpack the first element\n",
    "    first = var[0]\n",
    "    #Unpack the middle elements except first and last element\n",
    "    middle = var[1:-1]\n",
    "    #Unpack the last element\n",
    "    last = var[-1]\n",
    "    \n",
    "#Print the variables\n",
    "print(\"first:\", first, \"middle:\", middle, \"last:\", last)\n",
    "#Example usage\n",
    "unpack_list(var = [1, 2, 3, 4, 5, 6])"
   ]
  },
  {
   "cell_type": "code",
   "execution_count": null,
   "id": "47b11408-4123-4485-9d21-ae5cd19a602f",
   "metadata": {},
   "outputs": [],
   "source": []
  }
 ],
 "metadata": {
  "kernelspec": {
   "display_name": "Python 3 (ipykernel)",
   "language": "python",
   "name": "python3"
  },
  "language_info": {
   "codemirror_mode": {
    "name": "ipython",
    "version": 3
   },
   "file_extension": ".py",
   "mimetype": "text/x-python",
   "name": "python",
   "nbconvert_exporter": "python",
   "pygments_lexer": "ipython3",
   "version": "3.12.4"
  }
 },
 "nbformat": 4,
 "nbformat_minor": 5
}
